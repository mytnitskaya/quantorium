{
 "cells": [
  {
   "cell_type": "markdown",
   "metadata": {},
   "source": [
    "Конкурсное задание на прохождение научно-исследовательской практики в технопарке Кванториум.  \n",
    "Выполнила: Мытницкая Мария, гр. 0ВМ81 ТПУ"
   ]
  },
  {
   "cell_type": "markdown",
   "metadata": {},
   "source": [
    "$\\textbf{Задание 1.}$  \n",
    "Бросают 2 игральные кости. Найти вероятности следующих событий: A – сумма числа\n",
    "очков не превосходит 5; B – произведение числа очков не превосходит 4; C – произведение\n",
    "числа очков делится на 8."
   ]
  },
  {
   "cell_type": "markdown",
   "metadata": {},
   "source": [
    "$\\textbf{Решение:}$  \n",
    "1) Создадим двумерный массив, состоящий из всех возможных комбинаций чисел и найдем их общее количество:"
   ]
  },
  {
   "cell_type": "code",
   "execution_count": 6,
   "metadata": {},
   "outputs": [],
   "source": [
    "import numpy as np\n",
    "x=np.arange(1,7)\n",
    "from itertools import product\n",
    "comb = list(product(x,repeat=2))\n",
    "n=len(comb)"
   ]
  },
  {
   "cell_type": "markdown",
   "metadata": {},
   "source": [
    "2) Найдем множества исходов благоприятных событиям A, B и C."
   ]
  },
  {
   "cell_type": "code",
   "execution_count": 7,
   "metadata": {},
   "outputs": [],
   "source": [
    "A,B,C=0,0,0\n",
    "for element in comb:\n",
    "    if ((element[0]+element[1])<=5):\n",
    "        A=A+1\n",
    "    if ((element[0]*element[1])<=4):\n",
    "        B=B+1\n",
    "    if ((element[0]*element[1])%8==0):\n",
    "        C=C+1"
   ]
  },
  {
   "cell_type": "markdown",
   "metadata": {},
   "source": [
    "3) Используя классическую формулу вероятности $P(X)=\\frac{m_X}{n}$ вычислим вероятность событий A, B и C."
   ]
  },
  {
   "cell_type": "code",
   "execution_count": 9,
   "metadata": {},
   "outputs": [],
   "source": [
    "def P(lenght,goods):\n",
    "    return goods/lenght"
   ]
  },
  {
   "cell_type": "markdown",
   "metadata": {},
   "source": [
    "$\\textbf{Ответ:}$"
   ]
  },
  {
   "cell_type": "code",
   "execution_count": 10,
   "metadata": {},
   "outputs": [
    {
     "name": "stdout",
     "output_type": "stream",
     "text": [
      "0.2777777777777778 0.2222222222222222 0.1388888888888889\n"
     ]
    }
   ],
   "source": [
    "print(P(n,A),P(n,B),P(n,C))"
   ]
  },
  {
   "cell_type": "markdown",
   "metadata": {},
   "source": [
    "$\\textbf{Задание 2.}$  \n",
    "Случайным образом в интервале (0,1) выбираются два числа: a и b. Найти вероятность\n",
    "следующих событий: a+b<1; ab <1/2. \n",
    "\n",
    "$\\textbf{Решение.}$  \n",
    "1) Выберем декартову систему координат, и на оси Ox будем откладывать число a, а на оси Oy — число b.  \n",
    "2) Построим график функции благоприпятствующей событию А"
   ]
  },
  {
   "cell_type": "code",
   "execution_count": 43,
   "metadata": {},
   "outputs": [
    {
     "data": {
      "image/png": "[encoded data removed]",
      "text/plain": [
       "<Figure size 216x216 with 1 Axes>"
      ]
     },
     "metadata": {
      "needs_background": "light"
     },
     "output_type": "display_data"
    }
   ],
   "source": [
    "import numpy as np\n",
    "import matplotlib.pyplot as plt\n",
    "x = np.arange(0, 1, 0.1)\n",
    "plt.figure(1, figsize = (3,3))\n",
    "plt.plot(x, 1-x)\n",
    "plt.show()"
   ]
  },
  {
   "cell_type": "markdown",
   "metadata": {},
   "source": [
    "3) Найдем площадь области под графиком функции, это будет $S_g$. По условиям задачи 0 < a < 1, 0 < b < 1, тогда множеству элементарных исходов (область G) при таком подходе будет соответствовать квадрат со стороной, равной единице: $S_G = 1$  \n",
    "4) Используя формулу $P(A)=\\frac{S_g}{S_G}$ вычислим вероятность события А."
   ]
  },
  {
   "cell_type": "code",
   "execution_count": 44,
   "metadata": {},
   "outputs": [
    {
     "name": "stdout",
     "output_type": "stream",
     "text": [
      "0.5\n"
     ]
    }
   ],
   "source": [
    "from scipy import integrate\n",
    "areaA = integrate.quad(lambda x: 1-x,0,1)\n",
    "area = integrate.quad(lambda x: 1,0,1)\n",
    "PA=areaA[0]/area[0]\n",
    "print(PA)"
   ]
  },
  {
   "cell_type": "markdown",
   "metadata": {},
   "source": [
    "5) Построим график функции благоприпятствующей событию В.  "
   ]
  },
  {
   "cell_type": "code",
   "execution_count": 40,
   "metadata": {},
   "outputs": [
    {
     "data": {
      "image/png": "[encoded data removed]",
      "text/plain": [
       "<Figure size 216x216 with 1 Axes>"
      ]
     },
     "metadata": {
      "needs_background": "light"
     },
     "output_type": "display_data"
    }
   ],
   "source": [
    "x = np.arange(0.01, 1.01, 0.03)\n",
    "plt.figure(1, figsize = (3,3))\n",
    "axes = plt.gca()\n",
    "axes.set_xlim([0,1])\n",
    "axes.set_ylim([0,1])\n",
    "plt.plot(x,1/(2*x))\n",
    "plt.show()"
   ]
  },
  {
   "cell_type": "markdown",
   "metadata": {},
   "source": [
    "6) Найдем площадь области под графиком функции, для этого разобьем область на две части.  \n",
    "7) Используя формулу $P(B)=\\frac{S_g}{S_G}$ вычислим вероятность события B."
   ]
  },
  {
   "cell_type": "code",
   "execution_count": 46,
   "metadata": {},
   "outputs": [
    {
     "name": "stdout",
     "output_type": "stream",
     "text": [
      "0.8465735902799727\n"
     ]
    }
   ],
   "source": [
    "areaB = integrate.quad(lambda x: 1/(2*x),0.5,1)\n",
    "areaBa = integrate.quad(lambda x: 1,0,0.5)\n",
    "PB=(areaB[0]+areaBa[0])/area[0]\n",
    "print(PB)\n"
   ]
  },
  {
   "cell_type": "markdown",
   "metadata": {},
   "source": [
    "$\\textbf{Ответ:}$"
   ]
  },
  {
   "cell_type": "code",
   "execution_count": 47,
   "metadata": {},
   "outputs": [
    {
     "name": "stdout",
     "output_type": "stream",
     "text": [
      "0.5 0.8465735902799727\n"
     ]
    }
   ],
   "source": [
    "print(PA, PB)"
   ]
  },
  {
   "cell_type": "markdown",
   "metadata": {},
   "source": [
    "$\\textbf{Задание 3.}$  \n",
    "Найти вероятность того, что в результате 1000 бросаний монет число выпаданий герба\n",
    "будет заключено в интервале ]475,525[.  \n",
    "\n",
    "$\\textbf{Решение:}$  \n",
    "1) Используем теорему Муавра-Лапласа.  \n",
    "Формула вероятности:    \n",
    "$$P(\\alpha<\\xi<\\beta)=\\Phi(\\frac{\\beta-np}{\\sqrt{npq}})-\\Phi(\\frac{\\alpha-np}{\\sqrt{npq}})$$\n",
    "где $$\\Phi(x)=\\frac{1}{\\sqrt{2\\pi}}\\int_0^x e^{\\frac{-t^2}{2}}dt$$ - функция Лапласа.  \n",
    "2) Найдем вероятность события, для этого создадим функцию вычисляющую значения функции Лапласа:"
   ]
  },
  {
   "cell_type": "code",
   "execution_count": 48,
   "metadata": {},
   "outputs": [],
   "source": [
    "from math import exp, pi\n",
    "from scipy import integrate\n",
    "def arg (x,n,p,q):\n",
    "    return (x-n*p)/((n*p*q)**(1/2))\n",
    "def laplace(z):\n",
    "    return integrate.quad(lambda t: exp((-t**2)/2),0,z)[0]*(1/(2*pi)**(1/2))\n",
    "alfa=475\n",
    "beta=525\n",
    "n=1000\n",
    "p=q=0.5\n",
    "result=laplace(arg(beta,n,p,q))-laplace(arg(alfa,n,p,q))\n"
   ]
  },
  {
   "cell_type": "markdown",
   "metadata": {},
   "source": [
    "$\\textbf{Ответ:}$"
   ]
  },
  {
   "cell_type": "code",
   "execution_count": 49,
   "metadata": {},
   "outputs": [
    {
     "name": "stdout",
     "output_type": "stream",
     "text": [
      "0.8861537019933421\n"
     ]
    }
   ],
   "source": [
    "print(result)"
   ]
  }
 ],
 "metadata": {
  "kernelspec": {
   "display_name": "Python 3",
   "language": "python",
   "name": "python3"
  },
  "language_info": {
   "codemirror_mode": {
    "name": "ipython",
    "version": 3
   },
   "file_extension": ".py",
   "mimetype": "text/x-python",
   "name": "python",
   "nbconvert_exporter": "python",
   "pygments_lexer": "ipython3",
   "version": "3.7.0"
  }
 },
 "nbformat": 4,
 "nbformat_minor": 2
}
